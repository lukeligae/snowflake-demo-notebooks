{
 "metadata": {
  "kernelspec": {
   "display_name": "Streamlit Notebook",
   "name": "streamlit"
  }
 },
 "nbformat_minor": 5,
 "nbformat": 4,
 "cells": [
  {
   "cell_type": "markdown",
   "id": "62a6005f-85d2-4a91-a786-cb40d304cdc7",
   "metadata": {
    "name": "cell3",
    "collapsed": false
   },
   "source": "# Compare the Jinja variable and Python variable Scope in the Snowflake Notebook\n\n+ The Python variable scope is whole notebook. That is, when it is defined, its value will be avaliable anywhere after it is defined.\n\n+ The Jinja  variable scope is within the cell. That is, when it is defined in the cell, its value will be avaliable wihtin the cell, It will becoame un-defined outside the cell \n\n### Therefore, we have to defiine/set the varibales {{ env }} as Python varibale in the first line the file.  rather than the Jionja variable\n"
  },
  {
   "cell_type": "code",
   "id": "3775908f-ca36-4846-8f38-5adca39217f2",
   "metadata": {
    "language": "python",
    "name": "cell1"
   },
   "source": "MODE = 'dev'\nprint ('The MODE is Set to: ' + MODE)\n",
   "execution_count": null,
   "outputs": []
  },
  {
   "cell_type": "code",
   "id": "fb6c4823-1a3a-4eba-af28-c721381cca17",
   "metadata": {
    "language": "sql",
    "name": "cell4"
   },
   "outputs": [],
   "source": "--\n-- Jinja variubale only work within this definition cell . \n\n{% set env = 'prod' %}\n\nSELECT ' Set Environment to: {{ env }} !' AS Col1\nUNION ALL \nSELECT 'CREATE DATABASE {{env}}_DB;' as Col1; ",
   "execution_count": null
  },
  {
   "cell_type": "code",
   "id": "54eca9ad-e4cc-4902-971c-22d2b88b22b4",
   "metadata": {
    "language": "sql",
    "name": "cell5"
   },
   "outputs": [],
   "source": "SELECT ' Set MODE to: {{ MODE }} !' AS Col1\nUNION ALL \nSELECT 'CREATE DATABASE {{MODE}}_DB;' as Col1; ",
   "execution_count": null
  },
  {
   "cell_type": "code",
   "id": "e5e26a56-b609-4f89-af67-73c2521d450e",
   "metadata": {
    "language": "sql",
    "name": "cell2"
   },
   "outputs": [],
   "source": "-- Jinja variubale will not work out the definition cell. \n\nSELECT ' Set Environment to: {{ env }} !' AS Col1\nUNION ALL \nSELECT 'CREATE DATABASE {{env}}_DB;' as Col1; ",
   "execution_count": null
  }
 ]
}