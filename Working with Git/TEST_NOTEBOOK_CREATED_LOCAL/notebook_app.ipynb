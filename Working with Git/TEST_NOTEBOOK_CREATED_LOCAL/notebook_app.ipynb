{
 "metadata": {
  "kernelspec": {
   "display_name": "Streamlit Notebook",
   "name": "streamlit"
  }
 },
 "nbformat_minor": 5,
 "nbformat": 4,
 "cells": [
  {
   "cell_type": "code",
   "id": "3775908f-ca36-4846-8f38-5adca39217f2",
   "metadata": {
    "language": "sql",
    "name": "new_cell1"
   },
   "source": "SELECT CURRENT_DATE;\nSELECT CURRENT_DATABASE(), CURRENT_SCHEMA(), CURRENT_USER();\n",
   "execution_count": null,
   "outputs": []
  },
  {
   "cell_type": "code",
   "id": "8d50cbf4-0c8d-4950-86cb-114990437ac9",
   "metadata": {
    "language": "sql",
    "name": "jinja_variable",
    "collapsed": false
   },
   "source": "-- This not working {% set env = 'dev' %}\n{{ env }}",
   "execution_count": null,
   "outputs": []
  },
  {
   "cell_type": "code",
   "id": "a5225ea5-b416-4116-b854-c3689b9583c7",
   "metadata": {
    "language": "sql",
    "name": "object_to_connect_git",
    "collapsed": false
   },
   "outputs": [],
   "source": "-- Secrets (schema level). USe the PAT as teh PASSWORD \nCREATE OR REPLACE SECRET DEMO_GITHUB_SECRET\n  TYPE = password\n  USERNAME = 'GitGaeUserName'\n  PASSWORD = '<GAE_github_pat>';  \n\n-- API Integration (account level)\n-- This depends on the schema level secret DEMO_GITHUB_SECRET created above\nCREATE OR REPLACE API INTEGRATION DEMO_GITHUB_API_INTEGRATION\n  API_PROVIDER = GIT_HTTPS_API\n  API_ALLOWED_PREFIXES = ('https://github.com/')\n  ALLOWED_AUTHENTICATION_SECRETS = (DEMO_GITHUB_SECRET)\n  ENABLED = TRUE;\n ",
   "execution_count": null
  },
  {
   "cell_type": "code",
   "id": "1611a601-0629-4b8e-82c9-a936445bf79c",
   "metadata": {
    "language": "sql",
    "name": "cell1"
   },
   "outputs": [],
   "source": "-- Create Git Repository\n  CREATE GIT REPOSITORY Test_repo_name \n\tORIGIN = 'https://github.com/lukeligae/snowflake-demo-notebooks.git' \n\tAPI_INTEGRATION = 'DEMO_GITHUB_API_INTEGRATION' \n\tGIT_CREDENTIALS = 'DEMO_DB.PUBLIC.DEMO_GITHUB_SECRET' \n\tCOMMENT = 'Test ';",
   "execution_count": null
  },
  {
   "cell_type": "code",
   "id": "c695373e-ac74-4b62-a1f1-08206cbd5c81",
   "metadata": {
    "language": "sql",
    "name": "cell3"
   },
   "source": "",
   "execution_count": null,
   "outputs": []
  }
 ]
}